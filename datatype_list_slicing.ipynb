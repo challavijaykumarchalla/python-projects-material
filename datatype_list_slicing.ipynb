{
  "nbformat": 4,
  "nbformat_minor": 0,
  "metadata": {
    "colab": {
      "provenance": []
    },
    "kernelspec": {
      "name": "python3",
      "display_name": "Python 3"
    },
    "language_info": {
      "name": "python"
    }
  },
  "cells": [
    {
      "cell_type": "markdown",
      "source": [
        "#datatypes\n"
      ],
      "metadata": {
        "id": "KWrfS4FCmZPD"
      }
    },
    {
      "cell_type": "code",
      "execution_count": null,
      "metadata": {
        "colab": {
          "base_uri": "https://localhost:8080/"
        },
        "id": "gPZAL-J2mViU",
        "outputId": "31f3521d-8bd2-4848-8003-24ced69be2ee"
      },
      "outputs": [
        {
          "output_type": "stream",
          "name": "stdout",
          "text": [
            "<class 'list'>\n"
          ]
        }
      ],
      "source": [
        "#list\n",
        "#it can be denoted by '[]'\n",
        "fruits=[\"apple\",\"mango\",\"strawberry\",\"banana\"]\n",
        "vegetables=[\"onion\",\"brinjal\",\"potato\"]\n",
        "print(type(fruits))"
      ]
    },
    {
      "cell_type": "code",
      "source": [
        "#list\n",
        "datatypes=[\"list\",\"tuple\",\"string\",\"dictionary\",\"set\"]\n",
        "names=[\"tharun\",\"pavan\",\"gayathri\",\"satyam\"]\n",
        "print(type(names))"
      ],
      "metadata": {
        "colab": {
          "base_uri": "https://localhost:8080/"
        },
        "id": "PaSiZSM8ne8T",
        "outputId": "e79290eb-6254-449f-b706-987ef8e0c9e4"
      },
      "execution_count": null,
      "outputs": [
        {
          "output_type": "stream",
          "name": "stdout",
          "text": [
            "<class 'list'>\n"
          ]
        }
      ]
    },
    {
      "cell_type": "code",
      "source": [
        "numbers=[1,2,3,]\n",
        "fruits=[\"orange\",\"sapota\",\"kiwi\"]\n",
        "print(type(numbers))"
      ],
      "metadata": {
        "colab": {
          "base_uri": "https://localhost:8080/"
        },
        "id": "QymC3abHqmjo",
        "outputId": "fce00f7e-577c-40ca-98f9-3a9cd407c9ab"
      },
      "execution_count": null,
      "outputs": [
        {
          "output_type": "stream",
          "name": "stdout",
          "text": [
            "<class 'list'>\n"
          ]
        }
      ]
    },
    {
      "cell_type": "code",
      "source": [
        "NUMBERS=[1,2,3,4]\n",
        "numbers=[1,2.8,5,7]\n",
        "print(type(NUMBERS))"
      ],
      "metadata": {
        "colab": {
          "base_uri": "https://localhost:8080/"
        },
        "id": "ARNxB4D7rUEL",
        "outputId": "824fb1b9-9fac-4f76-b7cd-cd7bf8b9f521"
      },
      "execution_count": null,
      "outputs": [
        {
          "output_type": "stream",
          "name": "stdout",
          "text": [
            "<class 'list'>\n"
          ]
        }
      ]
    },
    {
      "cell_type": "code",
      "source": [
        "#index\n",
        "#index is two types-possitive index,negative index\n",
        "#positive index starts from right hand side 0,1,2,3,4------\n",
        "#negative index starts from left hand sinde-1,-2,-3,-4,-5,-6----\n",
        "fruits=[\"popaya\",\"orange\",\"apple\",\"banana\"]\n",
        "print(fruits[3])\n",
        "#2\n",
        "print(fruits[1])\n",
        "#3\n",
        "print(fruits[2])\n",
        "#negative index\n",
        "print(fruits[-2])\n",
        "#2\n",
        "print(fruits[-1])\n",
        "#3\n",
        "print(fruits[-4])"
      ],
      "metadata": {
        "colab": {
          "base_uri": "https://localhost:8080/"
        },
        "id": "LGdJsbrXtDu7",
        "outputId": "bf269258-81d3-4ef7-c12f-eba843d39d91"
      },
      "execution_count": null,
      "outputs": [
        {
          "output_type": "stream",
          "name": "stdout",
          "text": [
            "banana\n",
            "orange\n",
            "apple\n",
            "apple\n",
            "banana\n",
            "popaya\n"
          ]
        }
      ]
    },
    {
      "cell_type": "code",
      "source": [
        "numbers=[1,2,3,4,5,6,7]\n",
        "print(numbers[3])\n",
        "#2\n",
        "print(numbers[6])\n",
        "#3\n",
        "print(numbers[5])\n",
        "#negative index\n",
        "print(numbers[-4])\n",
        "#2\n",
        "print(numbers[-3])\n",
        "#3\n",
        "print(numbers[-5])"
      ],
      "metadata": {
        "colab": {
          "base_uri": "https://localhost:8080/"
        },
        "id": "Nkm7khQZzg0h",
        "outputId": "15f31cf0-583b-43ee-d273-b9bee88d5a1a"
      },
      "execution_count": null,
      "outputs": [
        {
          "output_type": "stream",
          "name": "stdout",
          "text": [
            "4\n",
            "7\n",
            "6\n",
            "4\n",
            "5\n",
            "3\n"
          ]
        }
      ]
    },
    {
      "cell_type": "code",
      "source": [
        "#slicing list\n",
        "#it is defined by starting value from ending value\n",
        "#in ending value'(n-1)' must be added\n",
        "#it is denoted by ':'\n",
        "names=[\"pavan\",\"tharun\",\"harish\",\"sandeep\"]\n",
        "print(names[1:3])\n",
        "#here we get 1:3. but '3' means sadeep. here we added '(n-1)'\n",
        "#2\n",
        "numbers=[1,2,3,4,5]\n",
        "print(numbers[2:4])\n",
        "#3\n",
        "print(numbers[1:])\n",
        "#4\n",
        "print(numbers[:4])"
      ],
      "metadata": {
        "colab": {
          "base_uri": "https://localhost:8080/"
        },
        "id": "ii8Hs8d_7caD",
        "outputId": "8965f202-2ea7-4103-fa5c-d10e87845ab6"
      },
      "execution_count": null,
      "outputs": [
        {
          "output_type": "stream",
          "name": "stdout",
          "text": [
            "['tharun', 'harish']\n",
            "[3, 4]\n",
            "[2, 3, 4, 5]\n",
            "[1, 2, 3, 4]\n"
          ]
        }
      ]
    },
    {
      "cell_type": "code",
      "source": [
        "#concatenation\n",
        "#it means adding of list in manner\n",
        "vegetables=[\"tomato\",\"onion\",\"pumpkin\",\"beetroot\",\"carrot\"]\n",
        "fruits=[\"apple\",\"banana\",\"orange\"]\n",
        "c=vegetables+fruits\n",
        "print(c)\n",
        ""
      ],
      "metadata": {
        "id": "IQkH9EHM_dX2",
        "colab": {
          "base_uri": "https://localhost:8080/"
        },
        "outputId": "ec28b072-4ccf-4a41-8bd7-c29adbd54593"
      },
      "execution_count": 54,
      "outputs": [
        {
          "output_type": "stream",
          "name": "stdout",
          "text": [
            "['tomato', 'onion', 'pumpkin', 'beetroot', 'carrot', 'apple', 'banana', 'orange']\n"
          ]
        }
      ]
    },
    {
      "cell_type": "code",
      "source": [
        "#repetition\n",
        "#it means multiplication of numbers\n",
        "a=[2,4,6,8,10,12]\n",
        "b=a*5\n",
        "print(b)\n",
        "b=a*20\n",
        "print(b)"
      ],
      "metadata": {
        "colab": {
          "base_uri": "https://localhost:8080/"
        },
        "id": "Zt1Qzb66DW1P",
        "outputId": "5dfa544c-3ce1-41b8-d06b-439b3cafe717"
      },
      "execution_count": 59,
      "outputs": [
        {
          "output_type": "stream",
          "name": "stdout",
          "text": [
            "[2, 4, 6, 8, 10, 12, 2, 4, 6, 8, 10, 12, 2, 4, 6, 8, 10, 12, 2, 4, 6, 8, 10, 12, 2, 4, 6, 8, 10, 12]\n",
            "[2, 4, 6, 8, 10, 12, 2, 4, 6, 8, 10, 12, 2, 4, 6, 8, 10, 12, 2, 4, 6, 8, 10, 12, 2, 4, 6, 8, 10, 12, 2, 4, 6, 8, 10, 12, 2, 4, 6, 8, 10, 12, 2, 4, 6, 8, 10, 12, 2, 4, 6, 8, 10, 12, 2, 4, 6, 8, 10, 12, 2, 4, 6, 8, 10, 12, 2, 4, 6, 8, 10, 12, 2, 4, 6, 8, 10, 12, 2, 4, 6, 8, 10, 12, 2, 4, 6, 8, 10, 12, 2, 4, 6, 8, 10, 12, 2, 4, 6, 8, 10, 12, 2, 4, 6, 8, 10, 12, 2, 4, 6, 8, 10, 12, 2, 4, 6, 8, 10, 12]\n"
          ]
        }
      ]
    },
    {
      "cell_type": "code",
      "source": [],
      "metadata": {
        "id": "paPeCwiDHAyi"
      },
      "execution_count": null,
      "outputs": []
    }
  ]
}