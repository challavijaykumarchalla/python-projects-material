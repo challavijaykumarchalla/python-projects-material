{
  "nbformat": 4,
  "nbformat_minor": 0,
  "metadata": {
    "colab": {
      "provenance": []
    },
    "kernelspec": {
      "name": "python3",
      "display_name": "Python 3"
    },
    "language_info": {
      "name": "python"
    }
  },
  "cells": [
    {
      "cell_type": "code",
      "execution_count": null,
      "metadata": {
        "colab": {
          "base_uri": "https://localhost:8080/"
        },
        "id": "h89ThNl5nqvA",
        "outputId": "e7b78c53-d62e-482a-bab6-5d90c5c76681"
      },
      "outputs": [
        {
          "output_type": "stream",
          "name": "stdout",
          "text": [
            "87.7\n"
          ]
        }
      ],
      "source": [
        "#float\n",
        "a=65.83\n",
        "b=21.87\n",
        "c=a+b\n",
        "#add of decimals\n",
        "print(c)"
      ]
    },
    {
      "cell_type": "code",
      "source": [
        "#float\n",
        "m=47.65\n",
        "n=54.66\n",
        "l=m-n\n",
        "#sub of decimal\n",
        "print(l)\n"
      ],
      "metadata": {
        "colab": {
          "base_uri": "https://localhost:8080/"
        },
        "id": "BNuZ8rKZoTNs",
        "outputId": "d7c94677-a2cf-4182-ba8c-0da0933d5a2f"
      },
      "execution_count": null,
      "outputs": [
        {
          "output_type": "stream",
          "name": "stdout",
          "text": [
            "-7.009999999999998\n"
          ]
        }
      ]
    },
    {
      "cell_type": "code",
      "source": [
        "#float\n",
        "x=12.74\n",
        "y=44.51\n",
        "z=87.65\n",
        "w=x*y*z\n",
        "#mul of decimals\n",
        "print(w)\n"
      ],
      "metadata": {
        "colab": {
          "base_uri": "https://localhost:8080/"
        },
        "id": "8E2SwxTwo0xu",
        "outputId": "e3661484-287c-4670-a983-ca371465276b"
      },
      "execution_count": null,
      "outputs": [
        {
          "output_type": "stream",
          "name": "stdout",
          "text": [
            "49702.58111000001\n"
          ]
        }
      ]
    },
    {
      "cell_type": "code",
      "source": [
        "#float\n",
        "i=14.65\n",
        "j=76.25\n",
        "h=i/j\n",
        "#div of decimals\n",
        "print(h)"
      ],
      "metadata": {
        "colab": {
          "base_uri": "https://localhost:8080/"
        },
        "id": "krXe3ozhpfc7",
        "outputId": "6b775cd4-29f0-4cac-9767-f271849b17c2"
      },
      "execution_count": null,
      "outputs": [
        {
          "output_type": "stream",
          "name": "stdout",
          "text": [
            "0.19213114754098362\n"
          ]
        }
      ]
    },
    {
      "cell_type": "code",
      "source": [
        "#float\n",
        "q=28.31\n",
        "r=10.34\n",
        "s=65.46\n",
        "#add of decimals\n",
        "p=q+r+s\n",
        "print(p)\n",
        "#sub of decimals\n",
        "p=q-r-s\n",
        "print(p)\n",
        "#mul of decimals\n",
        "p=q*r*s\n",
        "print(p)\n",
        "#div of decimals\n",
        "p=q/r/s\n",
        "print(p)\n"
      ],
      "metadata": {
        "colab": {
          "base_uri": "https://localhost:8080/"
        },
        "id": "wenN_bFxqqYT",
        "outputId": "f838fea3-4c21-40a5-872f-5ba33deb189f"
      },
      "execution_count": null,
      "outputs": [
        {
          "output_type": "stream",
          "name": "stdout",
          "text": [
            "104.10999999999999\n",
            "-47.489999999999995\n",
            "19161.804683999995\n",
            "0.041825710741598965\n"
          ]
        }
      ]
    }
  ]
}