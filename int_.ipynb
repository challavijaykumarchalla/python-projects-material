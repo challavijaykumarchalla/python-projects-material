{
  "nbformat": 4,
  "nbformat_minor": 0,
  "metadata": {
    "colab": {
      "provenance": []
    },
    "kernelspec": {
      "name": "python3",
      "display_name": "Python 3"
    },
    "language_info": {
      "name": "python"
    }
  },
  "cells": [
    {
      "cell_type": "code",
      "execution_count": null,
      "metadata": {
        "colab": {
          "base_uri": "https://localhost:8080/"
        },
        "id": "GEUTRDIjRQ4w",
        "outputId": "8b6b5d31-5f27-4b02-de6f-6239dafb4b80"
      },
      "outputs": [
        {
          "output_type": "stream",
          "name": "stdout",
          "text": [
            "147\n"
          ]
        }
      ],
      "source": [
        "#int\n",
        "x=51\n",
        "y=84\n",
        "z=12\n",
        "#add of numbers\n",
        "w=x+y+z\n",
        "print(w)"
      ]
    },
    {
      "cell_type": "code",
      "source": [
        "#int\n",
        "a=7\n",
        "b=58\n",
        "c=a-b\n",
        "#sub of numbers\n",
        "print(c)"
      ],
      "metadata": {
        "colab": {
          "base_uri": "https://localhost:8080/"
        },
        "id": "lGcM5ZhqVPUd",
        "outputId": "0b081f15-95e9-4a18-8310-3e90a5fdcc5f"
      },
      "execution_count": null,
      "outputs": [
        {
          "output_type": "stream",
          "name": "stdout",
          "text": [
            "-51\n"
          ]
        }
      ]
    },
    {
      "cell_type": "code",
      "source": [
        "#int\n",
        "c=41\n",
        "d=652\n",
        "b=c*d\n",
        "#multiply of numbers\n",
        "print(b)"
      ],
      "metadata": {
        "colab": {
          "base_uri": "https://localhost:8080/"
        },
        "id": "U4Y06HxLVxQI",
        "outputId": "51bc9b8d-e714-447f-b25a-7279d4fda657"
      },
      "execution_count": null,
      "outputs": [
        {
          "output_type": "stream",
          "name": "stdout",
          "text": [
            "26732\n"
          ]
        }
      ]
    },
    {
      "cell_type": "code",
      "source": [
        "#int\n",
        "e=21\n",
        "f=35\n",
        "d=e/f\n",
        "#div of numbers\n",
        "print(d)\n"
      ],
      "metadata": {
        "colab": {
          "base_uri": "https://localhost:8080/"
        },
        "id": "s8ktUBOQWXtO",
        "outputId": "030ea706-4d72-4a4f-cde0-db44d4c3b79d"
      },
      "execution_count": null,
      "outputs": [
        {
          "output_type": "stream",
          "name": "stdout",
          "text": [
            "0.6\n"
          ]
        }
      ]
    },
    {
      "cell_type": "code",
      "source": [
        "#int\n",
        "#add\n",
        "a=87\n",
        "b=65\n",
        "c=a+b\n",
        "print(c)\n",
        "#sub\n",
        "c=a-b\n",
        "print(c)\n",
        "#mul\n",
        "c=a*b\n",
        "print(c)\n",
        "#div\n",
        "c=a/b\n",
        "print(c)"
      ],
      "metadata": {
        "colab": {
          "base_uri": "https://localhost:8080/"
        },
        "id": "2A0061OfXGGN",
        "outputId": "089b5af8-59a9-4032-83a5-2c14a6790998"
      },
      "execution_count": null,
      "outputs": [
        {
          "output_type": "stream",
          "name": "stdout",
          "text": [
            "152\n",
            "22\n",
            "5655\n",
            "1.3384615384615384\n"
          ]
        }
      ]
    }
  ]
}