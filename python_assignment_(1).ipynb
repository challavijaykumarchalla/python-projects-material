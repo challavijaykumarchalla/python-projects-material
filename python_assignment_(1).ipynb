{
  "nbformat": 4,
  "nbformat_minor": 0,
  "metadata": {
    "colab": {
      "provenance": []
    },
    "kernelspec": {
      "name": "python3",
      "display_name": "Python 3"
    },
    "language_info": {
      "name": "python"
    }
  },
  "cells": [
    {
      "cell_type": "code",
      "execution_count": null,
      "metadata": {
        "colab": {
          "base_uri": "https://localhost:8080/"
        },
        "id": "XGOuH5kx55BZ",
        "outputId": "9fd84e9b-d029-4b64-d8c7-4f08594f3249"
      },
      "outputs": [
        {
          "output_type": "stream",
          "name": "stdout",
          "text": [
            "voting system\n",
            "enter your age18\n",
            "enter your age below eighteen17\n",
            "eligible\n",
            "not eligible\n"
          ]
        }
      ],
      "source": [
        "a = \"voting system\"\n",
        "above_eighteen_years = [\"eligible\"]\n",
        "below_eighteen_years = [\"not eligible\"]\n",
        "print(a)\n",
        "b= input(\"enter your age\")\n",
        "c=input(\"enter your age below eighteen\")\n",
        "if b in above_eighteen_years:\n",
        "  print(\"eligible\")\n",
        "elif b in below_eighteen_years:\n",
        "  print(\"not eligible\")\n",
        "else:\n",
        "  print(\"eligible\")\n",
        "  print(\"not eligible\")\n",
        "\n"
      ]
    },
    {
      "cell_type": "code",
      "source": [
        "#biggest number among 3\n",
        "def find_largest_number(no1, no2, no3):\n",
        "    if no1 >= no2 and no1 >= no3:\n",
        "        return no1\n",
        "    elif no2 >= no1 and no2 >= no3:\n",
        "        return no2\n",
        "    else:\n",
        "        return no3\n",
        "\n",
        "a = 10\n",
        "b = 25\n",
        "c = 15\n",
        "biggest_num = find_largest_number(a, b, c)\n",
        "print(\"The biggest_num among\", a, \",\", b, \"and\", c, \"is\", largest)"
      ],
      "metadata": {
        "colab": {
          "base_uri": "https://localhost:8080/"
        },
        "id": "gFnr5BSH_aES",
        "outputId": "29cb127a-2f32-4033-9f4d-a92339171adf"
      },
      "execution_count": null,
      "outputs": [
        {
          "output_type": "stream",
          "name": "stdout",
          "text": [
            "The biggest_num among 10 , 25 and 15 is 25\n"
          ]
        }
      ]
    },
    {
      "cell_type": "code",
      "source": [
        "#prime or not\n",
        "n=int(input(\"Enter a number:\"))\n",
        "for i in range(2,n):\n",
        "    if n%i==0:\n",
        "        print(\"not prime\")\n",
        "        break\n",
        "else:\n",
        "    print(\"prime\")"
      ],
      "metadata": {
        "colab": {
          "base_uri": "https://localhost:8080/"
        },
        "id": "7UefJf8efrVo",
        "outputId": "cf7e1483-5d63-43e9-dd0c-203584254ceb"
      },
      "execution_count": 7,
      "outputs": [
        {
          "output_type": "stream",
          "name": "stdout",
          "text": [
            "Enter a number:2\n",
            "prime\n"
          ]
        }
      ]
    },
    {
      "cell_type": "code",
      "source": [
        "#vowels\n",
        "input_string = \"my name is pavan\"\n",
        "vowels = set('aeiouAEIOU')\n",
        "vowel_count = 0\n",
        "for char in input_string:\n",
        "    if char in vowels:\n",
        "        vowel_count += 1\n",
        "print(f\"The number of vowels in the string is: {vowel_count}\")\n",
        "\n",
        "#consonets\n",
        "input_string = \"i completed my btech\"\n",
        "vowels = 'aeiouAEIOU'\n",
        "consonants = 'bcdfghjklmnpqrstvwxyzBCDFGHJKLMNPQRSTVWXYZ'\n",
        "vowel_count = 0\n",
        "consonant_count = 0\n",
        "for char in input_string:\n",
        "    if char in vowels:\n",
        "        vowel_count += 1\n",
        "    elif char in consonants:\n",
        "        consonant_count += 1\n",
        "print(f\"Vowels: {vowel_count}\")\n",
        "print(f\"Consonants: {consonant_count}\")"
      ],
      "metadata": {
        "id": "wwVhvM6SYZgj",
        "colab": {
          "base_uri": "https://localhost:8080/"
        },
        "outputId": "7480b9d7-ece3-4288-99fd-962a83bbbe46"
      },
      "execution_count": 1,
      "outputs": [
        {
          "output_type": "stream",
          "name": "stdout",
          "text": [
            "The number of vowels in the string is: 5\n",
            "Vowels: 5\n",
            "Consonants: 12\n"
          ]
        }
      ]
    },
    {
      "cell_type": "code",
      "source": [
        "#to count occurance of a char\n",
        "name=\"i am pavan and i am learning datascience\"\n",
        "char=\"a\"\n",
        "print(name.count(char))"
      ],
      "metadata": {
        "colab": {
          "base_uri": "https://localhost:8080/"
        },
        "id": "hlGNlH1gqG_v",
        "outputId": "05cbea98-1d91-4775-a92a-dc7e61b5c526"
      },
      "execution_count": 2,
      "outputs": [
        {
          "output_type": "stream",
          "name": "stdout",
          "text": [
            "8\n"
          ]
        }
      ]
    },
    {
      "cell_type": "code",
      "source": [
        "#febonacci series\n",
        "a=0\n",
        "b=1\n",
        "series_length = 20\n",
        "\n",
        "print(a, b, end=' ')\n",
        "for i in range(series_length):\n",
        "    c = a + b\n",
        "    print(c, end=' ')\n",
        "    a = b\n",
        "    b = c"
      ],
      "metadata": {
        "colab": {
          "base_uri": "https://localhost:8080/"
        },
        "id": "3WT_upCUqz4p",
        "outputId": "9e983de5-5a0b-4527-c185-e348a4c68fae"
      },
      "execution_count": 3,
      "outputs": [
        {
          "output_type": "stream",
          "name": "stdout",
          "text": [
            "0 1 1 2 3 5 8 13 21 34 55 89 144 233 377 610 987 1597 2584 4181 6765 10946 "
          ]
        }
      ]
    },
    {
      "cell_type": "code",
      "source": [
        "#max and min\n",
        "list_A=[2,54,23]\n",
        "list_B=[-2,4,1]\n",
        "combined_list= list_A + list_B\n",
        "max_num= max(combined_list)\n",
        "min_num= min(combined_list)\n",
        "print(\"maximum value:\",max_num)\n",
        "print(\"minimum value:\",min_num)\n"
      ],
      "metadata": {
        "colab": {
          "base_uri": "https://localhost:8080/"
        },
        "id": "0qjCAmYn_PyD",
        "outputId": "965413fa-99e4-44ef-af82-aa2bf9af8152"
      },
      "execution_count": null,
      "outputs": [
        {
          "output_type": "stream",
          "name": "stdout",
          "text": [
            "maximum value: 54\n",
            "minimum value: -2\n"
          ]
        }
      ]
    },
    {
      "cell_type": "code",
      "source": [
        "#convert list to string\n",
        "list_1=[\"delhi\",\" \",\"is\",\" \",\"the\",\" \",\"capital\",\" \",\"of\",\" \",\"india.\"]\n",
        "print(\"\".join(list_1))"
      ],
      "metadata": {
        "colab": {
          "base_uri": "https://localhost:8080/"
        },
        "id": "jxQ2C_eqB8ni",
        "outputId": "690fdb40-ba4e-4893-824b-a5396e91bc97"
      },
      "execution_count": null,
      "outputs": [
        {
          "output_type": "stream",
          "name": "stdout",
          "text": [
            "delhi is the capital of india.\n"
          ]
        }
      ]
    },
    {
      "cell_type": "code",
      "source": [
        "#remove white spaces\n",
        "my_str=\"         i am from andhra pradesh     \"\n",
        "string=my_str.strip()\n",
        "print(string)"
      ],
      "metadata": {
        "colab": {
          "base_uri": "https://localhost:8080/"
        },
        "id": "WOuzP5KaLEAp",
        "outputId": "b8b8f6b0-9c45-4fa3-f0eb-4578fb369034"
      },
      "execution_count": null,
      "outputs": [
        {
          "output_type": "stream",
          "name": "stdout",
          "text": [
            "i am from andhra pradesh\n"
          ]
        }
      ]
    },
    {
      "cell_type": "code",
      "source": [
        "#reverse a string\n",
        "my_str=\"i am going to eluru\"\n",
        "print(my_str[::-1])"
      ],
      "metadata": {
        "colab": {
          "base_uri": "https://localhost:8080/"
        },
        "id": "zHnKlYLEM-J7",
        "outputId": "96477892-03a5-4325-84a1-bced806b0efe"
      },
      "execution_count": null,
      "outputs": [
        {
          "output_type": "stream",
          "name": "stdout",
          "text": [
            "urule ot gniog ma i\n"
          ]
        }
      ]
    }
  ]
}