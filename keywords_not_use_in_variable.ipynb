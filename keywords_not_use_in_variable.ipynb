{
  "nbformat": 4,
  "nbformat_minor": 0,
  "metadata": {
    "colab": {
      "provenance": [],
      "gpuType": "T4"
    },
    "kernelspec": {
      "name": "python3",
      "display_name": "Python 3"
    },
    "language_info": {
      "name": "python"
    },
    "accelerator": "GPU"
  },
  "cells": [
    {
      "cell_type": "code",
      "execution_count": null,
      "metadata": {
        "colab": {
          "base_uri": "https://localhost:8080/",
          "height": 110
        },
        "id": "ugXtZL4cDOp7",
        "outputId": "d947984e-b10a-4432-d6c4-ac3623f1d7a4"
      },
      "outputs": [
        {
          "output_type": "error",
          "ename": "SyntaxError",
          "evalue": "invalid syntax (<ipython-input-2-130eba218839>, line 1)",
          "traceback": [
            "\u001b[0;36m  File \u001b[0;32m\"<ipython-input-2-130eba218839>\"\u001b[0;36m, line \u001b[0;32m1\u001b[0m\n\u001b[0;31m    from=\"it is not a special character\"\u001b[0m\n\u001b[0m        ^\u001b[0m\n\u001b[0;31mSyntaxError\u001b[0m\u001b[0;31m:\u001b[0m invalid syntax\n"
          ]
        }
      ],
      "source": [
        "from=\"it is not a special character\"\n",
        "if=\"it is also not a special character\"\n",
        "print(from,if)\n",
        "#keywords are not take as a variable"
      ]
    },
    {
      "cell_type": "code",
      "source": [
        "3=\"it is my lucky number\"\n",
        "7=\"it is also my lucky number\"\n",
        "print(3,7)\n",
        "#numbers are don't use in variables\n"
      ],
      "metadata": {
        "colab": {
          "base_uri": "https://localhost:8080/",
          "height": 110
        },
        "id": "VpoirbzUF0VN",
        "outputId": "995ba4b0-8bff-49f9-d92e-43b34c7d0310"
      },
      "execution_count": null,
      "outputs": [
        {
          "output_type": "error",
          "ename": "SyntaxError",
          "evalue": "cannot assign to literal here. Maybe you meant '==' instead of '='? (<ipython-input-5-666d8f6d541c>, line 1)",
          "traceback": [
            "\u001b[0;36m  File \u001b[0;32m\"<ipython-input-5-666d8f6d541c>\"\u001b[0;36m, line \u001b[0;32m1\u001b[0m\n\u001b[0;31m    3=\"it is my lucky number\"\u001b[0m\n\u001b[0m    ^\u001b[0m\n\u001b[0;31mSyntaxError\u001b[0m\u001b[0;31m:\u001b[0m cannot assign to literal here. Maybe you meant '==' instead of '='?\n"
          ]
        }
      ]
    },
    {
      "cell_type": "code",
      "source": [
        "@punjab_1=\"i was studied in lpu\"\n",
        "print(@punjab_1)\n",
        "#special characters and numbers are not use in variables"
      ],
      "metadata": {
        "colab": {
          "base_uri": "https://localhost:8080/",
          "height": 110
        },
        "id": "7-KgYQjOG8VY",
        "outputId": "6a0db6eb-09bb-44ab-e68a-08607d54388b"
      },
      "execution_count": null,
      "outputs": [
        {
          "output_type": "error",
          "ename": "SyntaxError",
          "evalue": "invalid syntax. Maybe you meant '==' or ':=' instead of '='? (<ipython-input-8-871bcae9390a>, line 1)",
          "traceback": [
            "\u001b[0;36m  File \u001b[0;32m\"<ipython-input-8-871bcae9390a>\"\u001b[0;36m, line \u001b[0;32m1\u001b[0m\n\u001b[0;31m    @punjab_1=\"i was studied in lpu\"\u001b[0m\n\u001b[0m     ^\u001b[0m\n\u001b[0;31mSyntaxError\u001b[0m\u001b[0;31m:\u001b[0m invalid syntax. Maybe you meant '==' or ':=' instead of '='?\n"
          ]
        }
      ]
    },
    {
      "cell_type": "code",
      "source": [
        "@_delhi=\"it was my favourite city\"\n",
        "@_punjab=\"i like punjab state where i was studied\"\n",
        "print(@_delhi,@_punjab)\n",
        "#use without special characters"
      ],
      "metadata": {
        "colab": {
          "base_uri": "https://localhost:8080/",
          "height": 110
        },
        "id": "dxsIoAI0H9rO",
        "outputId": "0a4a9baa-befb-49cf-fe3b-b4d0df9c3fd7"
      },
      "execution_count": null,
      "outputs": [
        {
          "output_type": "error",
          "ename": "SyntaxError",
          "evalue": "invalid syntax. Maybe you meant '==' or ':=' instead of '='? (<ipython-input-13-c9bb1a22c8c1>, line 1)",
          "traceback": [
            "\u001b[0;36m  File \u001b[0;32m\"<ipython-input-13-c9bb1a22c8c1>\"\u001b[0;36m, line \u001b[0;32m1\u001b[0m\n\u001b[0;31m    @_delhi=\"it was my favourite city\"\u001b[0m\n\u001b[0m     ^\u001b[0m\n\u001b[0;31mSyntaxError\u001b[0m\u001b[0;31m:\u001b[0m invalid syntax. Maybe you meant '==' or ':=' instead of '='?\n"
          ]
        }
      ]
    },
    {
      "cell_type": "code",
      "source": [
        "2018-\"i was chosen ece stream\"\n",
        "2022=\"i was completed my graduation\"\n",
        "print(2018,2022)\n",
        "#in variable don't use numbers"
      ],
      "metadata": {
        "colab": {
          "base_uri": "https://localhost:8080/",
          "height": 110
        },
        "id": "G84xmr86Kro2",
        "outputId": "aa4b6e14-5175-4fe1-96bb-c7724a905e15"
      },
      "execution_count": null,
      "outputs": [
        {
          "output_type": "error",
          "ename": "SyntaxError",
          "evalue": "cannot assign to literal here. Maybe you meant '==' instead of '='? (<ipython-input-12-865ea62d9f36>, line 2)",
          "traceback": [
            "\u001b[0;36m  File \u001b[0;32m\"<ipython-input-12-865ea62d9f36>\"\u001b[0;36m, line \u001b[0;32m2\u001b[0m\n\u001b[0;31m    2022=\"i was completed my graduation\"\u001b[0m\n\u001b[0m    ^\u001b[0m\n\u001b[0;31mSyntaxError\u001b[0m\u001b[0;31m:\u001b[0m cannot assign to literal here. Maybe you meant '==' instead of '='?\n"
          ]
        }
      ]
    },
    {
      "cell_type": "code",
      "source": [
        "not=\"it is nat a variable\"\n",
        "return=\"it was word\"\n",
        "print(not,return)\n",
        "#keywords are not used in variables"
      ],
      "metadata": {
        "colab": {
          "base_uri": "https://localhost:8080/",
          "height": 110
        },
        "id": "QdVkUr1vL5GM",
        "outputId": "63df6349-2ed3-4db8-913c-f8bb9680f73c"
      },
      "execution_count": null,
      "outputs": [
        {
          "output_type": "error",
          "ename": "SyntaxError",
          "evalue": "invalid syntax (<ipython-input-16-38b0dc71a98e>, line 1)",
          "traceback": [
            "\u001b[0;36m  File \u001b[0;32m\"<ipython-input-16-38b0dc71a98e>\"\u001b[0;36m, line \u001b[0;32m1\u001b[0m\n\u001b[0;31m    not=\"it is nat a variable\"\u001b[0m\n\u001b[0m       ^\u001b[0m\n\u001b[0;31mSyntaxError\u001b[0m\u001b[0;31m:\u001b[0m invalid syntax\n"
          ]
        }
      ]
    },
    {
      "cell_type": "code",
      "source": [
        "22march=\"russia got attacked by isis\"\n",
        "print(22march)\n",
        "#could not create using numbers"
      ],
      "metadata": {
        "colab": {
          "base_uri": "https://localhost:8080/",
          "height": 110
        },
        "id": "xYPEPlALNol8",
        "outputId": "d0df25ab-24ce-40c4-9d96-733268cbfd17"
      },
      "execution_count": null,
      "outputs": [
        {
          "output_type": "error",
          "ename": "SyntaxError",
          "evalue": "invalid decimal literal (<ipython-input-18-72618d750547>, line 1)",
          "traceback": [
            "\u001b[0;36m  File \u001b[0;32m\"<ipython-input-18-72618d750547>\"\u001b[0;36m, line \u001b[0;32m1\u001b[0m\n\u001b[0;31m    22march=\"russia got attacked by isis\"\u001b[0m\n\u001b[0m     ^\u001b[0m\n\u001b[0;31mSyntaxError\u001b[0m\u001b[0;31m:\u001b[0m invalid decimal literal\n"
          ]
        }
      ]
    },
    {
      "cell_type": "code",
      "source": [
        "@america=\"it was a developed country\"\n",
        "@india=\"it was a most populated country\"\n",
        "print(@america,@india)\n",
        "#don't use special charaters in invald"
      ],
      "metadata": {
        "colab": {
          "base_uri": "https://localhost:8080/",
          "height": 110
        },
        "id": "O4soAYEgP5q1",
        "outputId": "cc7fa846-565e-4436-aec7-35eac1014783"
      },
      "execution_count": null,
      "outputs": [
        {
          "output_type": "error",
          "ename": "SyntaxError",
          "evalue": "invalid syntax. Maybe you meant '==' or ':=' instead of '='? (<ipython-input-20-87d88b19240b>, line 1)",
          "traceback": [
            "\u001b[0;36m  File \u001b[0;32m\"<ipython-input-20-87d88b19240b>\"\u001b[0;36m, line \u001b[0;32m1\u001b[0m\n\u001b[0;31m    @america=\"it was a developed country\"\u001b[0m\n\u001b[0m     ^\u001b[0m\n\u001b[0;31mSyntaxError\u001b[0m\u001b[0;31m:\u001b[0m invalid syntax. Maybe you meant '==' or ':=' instead of '='?\n"
          ]
        }
      ]
    },
    {
      "cell_type": "code",
      "source": [
        "1988=\"virat kohli was born in delhi\"\n",
        "1981=\"dhoni born on 1981\"\n",
        "print(1988,1981)\n",
        "#numbers cant use in variables"
      ],
      "metadata": {
        "colab": {
          "base_uri": "https://localhost:8080/",
          "height": 110
        },
        "id": "fxZbDYaDQ5I3",
        "outputId": "5192d69a-b7db-4856-a5b6-00c7029a048e"
      },
      "execution_count": null,
      "outputs": [
        {
          "output_type": "error",
          "ename": "SyntaxError",
          "evalue": "cannot assign to literal here. Maybe you meant '==' instead of '='? (<ipython-input-3-1b76622352fd>, line 1)",
          "traceback": [
            "\u001b[0;36m  File \u001b[0;32m\"<ipython-input-3-1b76622352fd>\"\u001b[0;36m, line \u001b[0;32m1\u001b[0m\n\u001b[0;31m    1988=\"virat kohli was born in delhi\"\u001b[0m\n\u001b[0m    ^\u001b[0m\n\u001b[0;31mSyntaxError\u001b[0m\u001b[0;31m:\u001b[0m cannot assign to literal here. Maybe you meant '==' instead of '='?\n"
          ]
        }
      ]
    },
    {
      "cell_type": "code",
      "source": [
        "1=\"teks academy is the 5 rated software institute\"\n",
        "2=\"it was a best training istitute\"\n",
        "print(1,2)\n",
        "#donot use numbers in invalid variables"
      ],
      "metadata": {
        "colab": {
          "base_uri": "https://localhost:8080/",
          "height": 110
        },
        "id": "VbjASa5IXkIz",
        "outputId": "6450bde2-a3d7-49fb-fd43-c7399ee55aaf"
      },
      "execution_count": null,
      "outputs": [
        {
          "output_type": "error",
          "ename": "SyntaxError",
          "evalue": "cannot assign to literal here. Maybe you meant '==' instead of '='? (<ipython-input-4-5d90aa1062ff>, line 1)",
          "traceback": [
            "\u001b[0;36m  File \u001b[0;32m\"<ipython-input-4-5d90aa1062ff>\"\u001b[0;36m, line \u001b[0;32m1\u001b[0m\n\u001b[0;31m    1=\"teks academy is the 5 rated software institute\"\u001b[0m\n\u001b[0m    ^\u001b[0m\n\u001b[0;31mSyntaxError\u001b[0m\u001b[0;31m:\u001b[0m cannot assign to literal here. Maybe you meant '==' instead of '='?\n"
          ]
        }
      ]
    }
  ]
}